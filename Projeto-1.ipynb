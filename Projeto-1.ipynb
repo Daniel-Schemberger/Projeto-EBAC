{
 "cells": [
  {
   "cell_type": "markdown",
   "metadata": {},
   "source": [
    "# Projeto 1"
   ]
  },
  {
   "cell_type": "markdown",
   "metadata": {},
   "source": [
    "O seguinte projeto analisa e classifica possíveis inadimplêntes, Os passos, desde o tratamento dos dados até a avaliação do modelo foram realizados como tarefas durante as aulas do módulo 7."
   ]
  },
  {
   "cell_type": "markdown",
   "metadata": {},
   "source": [
    "* Bibliotecas:"
   ]
  },
  {
   "cell_type": "code",
   "execution_count": 1,
   "metadata": {},
   "outputs": [],
   "source": [
    "import pandas as pd\n",
    "import matplotlib.pyplot as plt\n",
    "import seaborn as sns\n",
    "import numpy as np\n",
    "import warnings\n",
    "\n",
    "from sklearn.model_selection import train_test_split\n",
    "from sklearn.tree import DecisionTreeClassifier\n",
    "from sklearn.tree import plot_tree\n",
    "from sklearn.metrics import confusion_matrix\n",
    "from sklearn.metrics import ConfusionMatrixDisplay\n",
    "from sklearn.metrics import accuracy_score\n",
    "\n",
    "warnings.filterwarnings(\"ignore\", category=UserWarning)"
   ]
  },
  {
   "cell_type": "markdown",
   "metadata": {},
   "source": [
    "* Importação dos dados:"
   ]
  },
  {
   "cell_type": "code",
   "execution_count": 2,
   "metadata": {},
   "outputs": [
    {
     "data": {
      "text/html": [
       "<div>\n",
       "<style scoped>\n",
       "    .dataframe tbody tr th:only-of-type {\n",
       "        vertical-align: middle;\n",
       "    }\n",
       "\n",
       "    .dataframe tbody tr th {\n",
       "        vertical-align: top;\n",
       "    }\n",
       "\n",
       "    .dataframe thead th {\n",
       "        text-align: right;\n",
       "    }\n",
       "</style>\n",
       "<table border=\"1\" class=\"dataframe\">\n",
       "  <thead>\n",
       "    <tr style=\"text-align: right;\">\n",
       "      <th></th>\n",
       "      <th>sexo</th>\n",
       "      <th>posse_de_veiculo</th>\n",
       "      <th>posse_de_imovel</th>\n",
       "      <th>qtd_filhos</th>\n",
       "      <th>tipo_renda</th>\n",
       "      <th>educacao</th>\n",
       "      <th>estado_civil</th>\n",
       "      <th>tipo_residencia</th>\n",
       "      <th>idade</th>\n",
       "      <th>tempo_emprego</th>\n",
       "      <th>possui_celular</th>\n",
       "      <th>possui_fone_comercial</th>\n",
       "      <th>possui_fone</th>\n",
       "      <th>possui_email</th>\n",
       "      <th>qt_pessoas_residencia</th>\n",
       "      <th>mau</th>\n",
       "    </tr>\n",
       "  </thead>\n",
       "  <tbody>\n",
       "    <tr>\n",
       "      <th>12813</th>\n",
       "      <td>F</td>\n",
       "      <td>Y</td>\n",
       "      <td>Y</td>\n",
       "      <td>1</td>\n",
       "      <td>Working</td>\n",
       "      <td>Secondary / secondary special</td>\n",
       "      <td>Married</td>\n",
       "      <td>House / apartment</td>\n",
       "      <td>42.482192</td>\n",
       "      <td>16.709589</td>\n",
       "      <td>1</td>\n",
       "      <td>0</td>\n",
       "      <td>0</td>\n",
       "      <td>0</td>\n",
       "      <td>3.0</td>\n",
       "      <td>False</td>\n",
       "    </tr>\n",
       "    <tr>\n",
       "      <th>6286</th>\n",
       "      <td>M</td>\n",
       "      <td>N</td>\n",
       "      <td>N</td>\n",
       "      <td>0</td>\n",
       "      <td>Working</td>\n",
       "      <td>Secondary / secondary special</td>\n",
       "      <td>Married</td>\n",
       "      <td>House / apartment</td>\n",
       "      <td>33.410959</td>\n",
       "      <td>5.498630</td>\n",
       "      <td>1</td>\n",
       "      <td>0</td>\n",
       "      <td>0</td>\n",
       "      <td>0</td>\n",
       "      <td>2.0</td>\n",
       "      <td>False</td>\n",
       "    </tr>\n",
       "    <tr>\n",
       "      <th>15422</th>\n",
       "      <td>M</td>\n",
       "      <td>N</td>\n",
       "      <td>N</td>\n",
       "      <td>1</td>\n",
       "      <td>Working</td>\n",
       "      <td>Higher education</td>\n",
       "      <td>Married</td>\n",
       "      <td>House / apartment</td>\n",
       "      <td>27.693151</td>\n",
       "      <td>4.035616</td>\n",
       "      <td>1</td>\n",
       "      <td>1</td>\n",
       "      <td>0</td>\n",
       "      <td>0</td>\n",
       "      <td>3.0</td>\n",
       "      <td>False</td>\n",
       "    </tr>\n",
       "    <tr>\n",
       "      <th>3447</th>\n",
       "      <td>M</td>\n",
       "      <td>Y</td>\n",
       "      <td>N</td>\n",
       "      <td>2</td>\n",
       "      <td>State servant</td>\n",
       "      <td>Secondary / secondary special</td>\n",
       "      <td>Married</td>\n",
       "      <td>House / apartment</td>\n",
       "      <td>33.534247</td>\n",
       "      <td>12.775342</td>\n",
       "      <td>1</td>\n",
       "      <td>0</td>\n",
       "      <td>0</td>\n",
       "      <td>0</td>\n",
       "      <td>4.0</td>\n",
       "      <td>False</td>\n",
       "    </tr>\n",
       "    <tr>\n",
       "      <th>5082</th>\n",
       "      <td>F</td>\n",
       "      <td>N</td>\n",
       "      <td>N</td>\n",
       "      <td>1</td>\n",
       "      <td>Commercial associate</td>\n",
       "      <td>Secondary / secondary special</td>\n",
       "      <td>Married</td>\n",
       "      <td>House / apartment</td>\n",
       "      <td>31.361644</td>\n",
       "      <td>8.301370</td>\n",
       "      <td>1</td>\n",
       "      <td>0</td>\n",
       "      <td>0</td>\n",
       "      <td>0</td>\n",
       "      <td>3.0</td>\n",
       "      <td>False</td>\n",
       "    </tr>\n",
       "  </tbody>\n",
       "</table>\n",
       "</div>"
      ],
      "text/plain": [
       "      sexo posse_de_veiculo posse_de_imovel  qtd_filhos            tipo_renda  \\\n",
       "12813    F                Y               Y           1               Working   \n",
       "6286     M                N               N           0               Working   \n",
       "15422    M                N               N           1               Working   \n",
       "3447     M                Y               N           2         State servant   \n",
       "5082     F                N               N           1  Commercial associate   \n",
       "\n",
       "                            educacao estado_civil    tipo_residencia  \\\n",
       "12813  Secondary / secondary special      Married  House / apartment   \n",
       "6286   Secondary / secondary special      Married  House / apartment   \n",
       "15422               Higher education      Married  House / apartment   \n",
       "3447   Secondary / secondary special      Married  House / apartment   \n",
       "5082   Secondary / secondary special      Married  House / apartment   \n",
       "\n",
       "           idade  tempo_emprego  possui_celular  possui_fone_comercial  \\\n",
       "12813  42.482192      16.709589               1                      0   \n",
       "6286   33.410959       5.498630               1                      0   \n",
       "15422  27.693151       4.035616               1                      1   \n",
       "3447   33.534247      12.775342               1                      0   \n",
       "5082   31.361644       8.301370               1                      0   \n",
       "\n",
       "       possui_fone  possui_email  qt_pessoas_residencia    mau  \n",
       "12813            0             0                    3.0  False  \n",
       "6286             0             0                    2.0  False  \n",
       "15422            0             0                    3.0  False  \n",
       "3447             0             0                    4.0  False  \n",
       "5082             0             0                    3.0  False  "
      ]
     },
     "execution_count": 2,
     "metadata": {},
     "output_type": "execute_result"
    }
   ],
   "source": [
    "# Armazenando o dataset na variável 'data':\n",
    "\n",
    "data = pd.read_csv('demo01.csv')\n",
    "\n",
    "# Amostra de 5 linhas do dataset:\n",
    "\n",
    "data.sample(n=5)"
   ]
  },
  {
   "cell_type": "markdown",
   "metadata": {},
   "source": [
    "* Exploração dos dados:"
   ]
  },
  {
   "cell_type": "markdown",
   "metadata": {},
   "source": [
    "O dataset apresenta diversas informações sobre os clientes da aplicação, em especial, a coluna 'mal' que representa se o cliente foi um mal pagador nos ultimos 24 meses.\n",
    "Esta variável será nossa variável alvo, ao final do projeto treinaremos um modelo de Machine Learning para classificar esta variável, afim de prever futuros possíveis inadimplêntes."
   ]
  },
  {
   "cell_type": "markdown",
   "metadata": {},
   "source": [
    "Informações básicas sobre o dataset:"
   ]
  },
  {
   "cell_type": "code",
   "execution_count": 3,
   "metadata": {},
   "outputs": [
    {
     "name": "stdout",
     "output_type": "stream",
     "text": [
      "<class 'pandas.core.frame.DataFrame'>\n",
      "RangeIndex: 16650 entries, 0 to 16649\n",
      "Data columns (total 16 columns):\n",
      " #   Column                 Non-Null Count  Dtype  \n",
      "---  ------                 --------------  -----  \n",
      " 0   sexo                   16650 non-null  object \n",
      " 1   posse_de_veiculo       16650 non-null  object \n",
      " 2   posse_de_imovel        16650 non-null  object \n",
      " 3   qtd_filhos             16650 non-null  int64  \n",
      " 4   tipo_renda             16650 non-null  object \n",
      " 5   educacao               16650 non-null  object \n",
      " 6   estado_civil           16650 non-null  object \n",
      " 7   tipo_residencia        16650 non-null  object \n",
      " 8   idade                  16650 non-null  float64\n",
      " 9   tempo_emprego          16650 non-null  float64\n",
      " 10  possui_celular         16650 non-null  int64  \n",
      " 11  possui_fone_comercial  16650 non-null  int64  \n",
      " 12  possui_fone            16650 non-null  int64  \n",
      " 13  possui_email           16650 non-null  int64  \n",
      " 14  qt_pessoas_residencia  16650 non-null  float64\n",
      " 15  mau                    16650 non-null  bool   \n",
      "dtypes: bool(1), float64(3), int64(5), object(7)\n",
      "memory usage: 1.9+ MB\n",
      "\n",
      "Número de linhas: 16650\n",
      "Número de colunas: 16\n"
     ]
    }
   ],
   "source": [
    "data.info()\n",
    "print(f'\\nNúmero de linhas: {data.shape[0]}\\nNúmero de colunas: {data.shape[1]}')"
   ]
  },
  {
   "cell_type": "markdown",
   "metadata": {},
   "source": [
    "Como visto através do método .info(), todas as variáveis tem o mesmo número de entras que o total de entradas no dataframe, logo é esperado que o datafram não contenha nenhum dado faltante."
   ]
  },
  {
   "cell_type": "code",
   "execution_count": 4,
   "metadata": {},
   "outputs": [],
   "source": [
    "# Utilizando uma função para conferir a presença de dados faltantes:\n",
    "\n",
    "def stat_dados_faltantes(df: pd.DataFrame) ->  None:\n",
    "\n",
    "    \"\"\"Recebe um dataframe e retorna um dicionário com o nome da variável e a \n",
    "    porcentagem de dados faltantes variável. Caso não existam dados faltantes em nenhuma\n",
    "    variável, retorna uma mensagem.\"\"\"\n",
    "    \n",
    "    stat_dados_faltantes = []\n",
    "\n",
    "    if df.isnull().any().sum()>0:\n",
    "        for col in df.columns:\n",
    "            if df[col].isnull().any():\n",
    "                qnt = df[df[col].isna()].shape[0]\n",
    "                total = df.shape[0]\n",
    "                dic = {col: {'quantidade': qnt, 'porcentagem': round(qnt/total*100, 2)}}\n",
    "                stat_dados_faltantes.append(dic)\n",
    "    else:\n",
    "        print('Dataframe não contém dados faltantes.')\n",
    "    for stat in stat_dados_faltantes:\n",
    "        print(stat)"
   ]
  },
  {
   "cell_type": "code",
   "execution_count": 5,
   "metadata": {},
   "outputs": [
    {
     "name": "stdout",
     "output_type": "stream",
     "text": [
      "Dataframe não contém dados faltantes.\n"
     ]
    }
   ],
   "source": [
    "stat_dados_faltantes(df=data)"
   ]
  },
  {
   "cell_type": "markdown",
   "metadata": {},
   "source": [
    "Verificando as variáveis categóricas e numéricas:"
   ]
  },
  {
   "cell_type": "code",
   "execution_count": 6,
   "metadata": {},
   "outputs": [
    {
     "name": "stdout",
     "output_type": "stream",
     "text": [
      "Número de colunas com variáveis categóricas: 7.\n",
      " * Lista: ['sexo', 'posse_de_veiculo', 'posse_de_imovel', 'tipo_renda', 'educacao', 'estado_civil', 'tipo_residencia']\n",
      "\n",
      "\n",
      "Número de colunas com variáveis numericas: 9.\n",
      " * Lista: ['qtd_filhos', 'idade', 'tempo_emprego', 'possui_celular', 'possui_fone_comercial', 'possui_fone', 'possui_email', 'qt_pessoas_residencia', 'mau']\n"
     ]
    }
   ],
   "source": [
    "data_categorica = data.select_dtypes('object')\n",
    "data_numerica = data.select_dtypes(exclude='object')\n",
    "\n",
    "list_cat = list(data_categorica.columns)\n",
    "list_num = list(data_numerica.columns)\n",
    "\n",
    "print(f'Número de colunas com variáveis categóricas: {data_categorica.shape[1]}.\\n * Lista: {list_cat}')\n",
    "print('\\n')\n",
    "print(f'Número de colunas com variáveis numericas: {data_numerica.shape[1]}.\\n * Lista: {list_num}')"
   ]
  },
  {
   "cell_type": "code",
   "execution_count": 7,
   "metadata": {},
   "outputs": [
    {
     "data": {
      "text/html": [
       "<div>\n",
       "<style scoped>\n",
       "    .dataframe tbody tr th:only-of-type {\n",
       "        vertical-align: middle;\n",
       "    }\n",
       "\n",
       "    .dataframe tbody tr th {\n",
       "        vertical-align: top;\n",
       "    }\n",
       "\n",
       "    .dataframe thead th {\n",
       "        text-align: right;\n",
       "    }\n",
       "</style>\n",
       "<table border=\"1\" class=\"dataframe\">\n",
       "  <thead>\n",
       "    <tr style=\"text-align: right;\">\n",
       "      <th></th>\n",
       "      <th>count</th>\n",
       "      <th>unique</th>\n",
       "      <th>top</th>\n",
       "      <th>freq</th>\n",
       "    </tr>\n",
       "  </thead>\n",
       "  <tbody>\n",
       "    <tr>\n",
       "      <th>sexo</th>\n",
       "      <td>16650</td>\n",
       "      <td>2</td>\n",
       "      <td>F</td>\n",
       "      <td>11201</td>\n",
       "    </tr>\n",
       "    <tr>\n",
       "      <th>posse_de_veiculo</th>\n",
       "      <td>16650</td>\n",
       "      <td>2</td>\n",
       "      <td>N</td>\n",
       "      <td>10178</td>\n",
       "    </tr>\n",
       "    <tr>\n",
       "      <th>posse_de_imovel</th>\n",
       "      <td>16650</td>\n",
       "      <td>2</td>\n",
       "      <td>Y</td>\n",
       "      <td>11176</td>\n",
       "    </tr>\n",
       "    <tr>\n",
       "      <th>tipo_renda</th>\n",
       "      <td>16650</td>\n",
       "      <td>5</td>\n",
       "      <td>Working</td>\n",
       "      <td>8565</td>\n",
       "    </tr>\n",
       "    <tr>\n",
       "      <th>educacao</th>\n",
       "      <td>16650</td>\n",
       "      <td>5</td>\n",
       "      <td>Secondary / secondary special</td>\n",
       "      <td>11245</td>\n",
       "    </tr>\n",
       "    <tr>\n",
       "      <th>estado_civil</th>\n",
       "      <td>16650</td>\n",
       "      <td>5</td>\n",
       "      <td>Married</td>\n",
       "      <td>11680</td>\n",
       "    </tr>\n",
       "    <tr>\n",
       "      <th>tipo_residencia</th>\n",
       "      <td>16650</td>\n",
       "      <td>6</td>\n",
       "      <td>House / apartment</td>\n",
       "      <td>14974</td>\n",
       "    </tr>\n",
       "  </tbody>\n",
       "</table>\n",
       "</div>"
      ],
      "text/plain": [
       "                  count unique                            top   freq\n",
       "sexo              16650      2                              F  11201\n",
       "posse_de_veiculo  16650      2                              N  10178\n",
       "posse_de_imovel   16650      2                              Y  11176\n",
       "tipo_renda        16650      5                        Working   8565\n",
       "educacao          16650      5  Secondary / secondary special  11245\n",
       "estado_civil      16650      5                        Married  11680\n",
       "tipo_residencia   16650      6              House / apartment  14974"
      ]
     },
     "execution_count": 7,
     "metadata": {},
     "output_type": "execute_result"
    }
   ],
   "source": [
    "# Estatísticas das variáveis categóricas:\n",
    "\n",
    "data_categorica.describe().transpose()"
   ]
  },
  {
   "cell_type": "code",
   "execution_count": 8,
   "metadata": {},
   "outputs": [
    {
     "data": {
      "text/html": [
       "<div>\n",
       "<style scoped>\n",
       "    .dataframe tbody tr th:only-of-type {\n",
       "        vertical-align: middle;\n",
       "    }\n",
       "\n",
       "    .dataframe tbody tr th {\n",
       "        vertical-align: top;\n",
       "    }\n",
       "\n",
       "    .dataframe thead th {\n",
       "        text-align: right;\n",
       "    }\n",
       "</style>\n",
       "<table border=\"1\" class=\"dataframe\">\n",
       "  <thead>\n",
       "    <tr style=\"text-align: right;\">\n",
       "      <th></th>\n",
       "      <th>count</th>\n",
       "      <th>mean</th>\n",
       "      <th>std</th>\n",
       "      <th>min</th>\n",
       "      <th>25%</th>\n",
       "      <th>50%</th>\n",
       "      <th>75%</th>\n",
       "      <th>max</th>\n",
       "    </tr>\n",
       "  </thead>\n",
       "  <tbody>\n",
       "    <tr>\n",
       "      <th>qtd_filhos</th>\n",
       "      <td>16650.0</td>\n",
       "      <td>0.433153</td>\n",
       "      <td>0.739395</td>\n",
       "      <td>0.000000</td>\n",
       "      <td>0.000000</td>\n",
       "      <td>0.000000</td>\n",
       "      <td>1.000000</td>\n",
       "      <td>14.000000</td>\n",
       "    </tr>\n",
       "    <tr>\n",
       "      <th>idade</th>\n",
       "      <td>16650.0</td>\n",
       "      <td>44.319513</td>\n",
       "      <td>11.228837</td>\n",
       "      <td>22.030137</td>\n",
       "      <td>34.873973</td>\n",
       "      <td>43.493151</td>\n",
       "      <td>53.410959</td>\n",
       "      <td>68.909589</td>\n",
       "    </tr>\n",
       "    <tr>\n",
       "      <th>tempo_emprego</th>\n",
       "      <td>16650.0</td>\n",
       "      <td>-161.416446</td>\n",
       "      <td>376.843912</td>\n",
       "      <td>-1000.665753</td>\n",
       "      <td>1.183562</td>\n",
       "      <td>4.691781</td>\n",
       "      <td>9.088356</td>\n",
       "      <td>42.906849</td>\n",
       "    </tr>\n",
       "    <tr>\n",
       "      <th>possui_celular</th>\n",
       "      <td>16650.0</td>\n",
       "      <td>1.000000</td>\n",
       "      <td>0.000000</td>\n",
       "      <td>1.000000</td>\n",
       "      <td>1.000000</td>\n",
       "      <td>1.000000</td>\n",
       "      <td>1.000000</td>\n",
       "      <td>1.000000</td>\n",
       "    </tr>\n",
       "    <tr>\n",
       "      <th>possui_fone_comercial</th>\n",
       "      <td>16650.0</td>\n",
       "      <td>0.225225</td>\n",
       "      <td>0.417743</td>\n",
       "      <td>0.000000</td>\n",
       "      <td>0.000000</td>\n",
       "      <td>0.000000</td>\n",
       "      <td>0.000000</td>\n",
       "      <td>1.000000</td>\n",
       "    </tr>\n",
       "    <tr>\n",
       "      <th>possui_fone</th>\n",
       "      <td>16650.0</td>\n",
       "      <td>0.295676</td>\n",
       "      <td>0.456360</td>\n",
       "      <td>0.000000</td>\n",
       "      <td>0.000000</td>\n",
       "      <td>0.000000</td>\n",
       "      <td>1.000000</td>\n",
       "      <td>1.000000</td>\n",
       "    </tr>\n",
       "    <tr>\n",
       "      <th>possui_email</th>\n",
       "      <td>16650.0</td>\n",
       "      <td>0.088889</td>\n",
       "      <td>0.284592</td>\n",
       "      <td>0.000000</td>\n",
       "      <td>0.000000</td>\n",
       "      <td>0.000000</td>\n",
       "      <td>0.000000</td>\n",
       "      <td>1.000000</td>\n",
       "    </tr>\n",
       "    <tr>\n",
       "      <th>qt_pessoas_residencia</th>\n",
       "      <td>16650.0</td>\n",
       "      <td>2.211892</td>\n",
       "      <td>0.903755</td>\n",
       "      <td>1.000000</td>\n",
       "      <td>2.000000</td>\n",
       "      <td>2.000000</td>\n",
       "      <td>3.000000</td>\n",
       "      <td>15.000000</td>\n",
       "    </tr>\n",
       "  </tbody>\n",
       "</table>\n",
       "</div>"
      ],
      "text/plain": [
       "                         count        mean         std          min  \\\n",
       "qtd_filhos             16650.0    0.433153    0.739395     0.000000   \n",
       "idade                  16650.0   44.319513   11.228837    22.030137   \n",
       "tempo_emprego          16650.0 -161.416446  376.843912 -1000.665753   \n",
       "possui_celular         16650.0    1.000000    0.000000     1.000000   \n",
       "possui_fone_comercial  16650.0    0.225225    0.417743     0.000000   \n",
       "possui_fone            16650.0    0.295676    0.456360     0.000000   \n",
       "possui_email           16650.0    0.088889    0.284592     0.000000   \n",
       "qt_pessoas_residencia  16650.0    2.211892    0.903755     1.000000   \n",
       "\n",
       "                             25%        50%        75%        max  \n",
       "qtd_filhos              0.000000   0.000000   1.000000  14.000000  \n",
       "idade                  34.873973  43.493151  53.410959  68.909589  \n",
       "tempo_emprego           1.183562   4.691781   9.088356  42.906849  \n",
       "possui_celular          1.000000   1.000000   1.000000   1.000000  \n",
       "possui_fone_comercial   0.000000   0.000000   0.000000   1.000000  \n",
       "possui_fone             0.000000   0.000000   1.000000   1.000000  \n",
       "possui_email            0.000000   0.000000   0.000000   1.000000  \n",
       "qt_pessoas_residencia   2.000000   2.000000   3.000000  15.000000  "
      ]
     },
     "execution_count": 8,
     "metadata": {},
     "output_type": "execute_result"
    }
   ],
   "source": [
    "# Estatísticas das variáveis numéricas:\n",
    "\n",
    "data_numerica.describe().transpose()"
   ]
  },
  {
   "cell_type": "markdown",
   "metadata": {},
   "source": [
    "* Visualização e transformações das variáveis:"
   ]
  },
  {
   "cell_type": "markdown",
   "metadata": {},
   "source": [
    "Podemos notar alguns valores estranhos nas estatísticas apresentadas, vamos explora-las mais a fundo:"
   ]
  },
  {
   "cell_type": "code",
   "execution_count": 9,
   "metadata": {},
   "outputs": [
    {
     "data": {
      "text/plain": [
       "<Axes: ylabel='qtd_filhos'>"
      ]
     },
     "execution_count": 9,
     "metadata": {},
     "output_type": "execute_result"
    },
    {
     "data": {
      "image/png": "[encoded data removed]",
      "text/plain": [
       "<Figure size 640x480 with 1 Axes>"
      ]
     },
     "metadata": {},
     "output_type": "display_data"
    }
   ],
   "source": [
    "# Podemos notar que a quantidade máxima de filhos é igual a 14, um número bem elevado se considerarmos que o terceiro quartil desta variável é igual a 1.\n",
    "# Possivelmente esta linha esta associada com um outlier, vamos analisar graficamente a variável 'qtd_filhos':\n",
    "\n",
    "sns.boxplot(data=data, y='qtd_filhos')"
   ]
  },
  {
   "cell_type": "code",
   "execution_count": 10,
   "metadata": {},
   "outputs": [],
   "source": [
    "# Removendo o outlier da variável 'qtd_filhos':\n",
    "\n",
    "data = data[data['qtd_filhos'] < 10]"
   ]
  },
  {
   "cell_type": "code",
   "execution_count": 11,
   "metadata": {},
   "outputs": [
    {
     "data": {
      "text/plain": [
       "Text(0.5, 0, 'Tempo de emprego (anos)')"
      ]
     },
     "execution_count": 11,
     "metadata": {},
     "output_type": "execute_result"
    },
    {
     "data": {
      "image/png": "[encoded data removed]",
      "text/plain": [
       "<Figure size 640x480 with 1 Axes>"
      ]
     },
     "metadata": {},
     "output_type": "display_data"
    }
   ],
   "source": [
    "# A variável 'tempo_emprego' apresenta um valor mínimo inconsistente, que será substituido por 0:\n",
    "\n",
    "data['tempo_emprego'] = data['tempo_emprego'].apply(lambda x: 0 if x<0 else x)\n",
    "\n",
    "sns.histplot(data=data, x='tempo_emprego')\n",
    "\n",
    "plt.title('Histograma dos tempos de emprego')\n",
    "plt.ylabel('Contagem')\n",
    "plt.xlabel('Tempo de emprego (anos)')"
   ]
  },
  {
   "cell_type": "code",
   "execution_count": 12,
   "metadata": {},
   "outputs": [],
   "source": [
    "# A variável 'idade' esta em formato float e será convertida para int:\n",
    "\n",
    "data['idade'] = data['idade'].astype(int)"
   ]
  },
  {
   "cell_type": "code",
   "execution_count": 13,
   "metadata": {},
   "outputs": [],
   "source": [
    "# tratando as variáveis categóricas binárias:\n",
    "\n",
    "data['sexo'] = data['sexo'].map({'M': 1, 'F':0})\n",
    "data['posse_de_veiculo'] = data['posse_de_veiculo'].map({'Y':1, 'N':0})\n",
    "data['posse_de_imovel'] = data['posse_de_imovel'].map({'Y':1, 'N':0})\n"
   ]
  },
  {
   "cell_type": "code",
   "execution_count": 14,
   "metadata": {},
   "outputs": [
    {
     "data": {
      "text/plain": [
       "Text(0.5, 0, 'Mau pagadores')"
      ]
     },
     "execution_count": 14,
     "metadata": {},
     "output_type": "execute_result"
    },
    {
     "data": {
      "image/png": "[encoded data removed]",
      "text/plain": [
       "<Figure size 640x480 with 1 Axes>"
      ]
     },
     "metadata": {},
     "output_type": "display_data"
    }
   ],
   "source": [
    "# Verificando a distribuição da variável alvo:\n",
    "\n",
    "sns.countplot(data=data, x='mau')\n",
    "\n",
    "plt.title('Distribuição da variável \"mau\"')\n",
    "plt.ylabel('Contagem')\n",
    "plt.xlabel('Mau pagadores')"
   ]
  },
  {
   "cell_type": "markdown",
   "metadata": {},
   "source": [
    "Podemos notar que a variável alvo é desbalanceada, o que terá efeito na capacidade do modelo de realizar previões."
   ]
  },
  {
   "cell_type": "markdown",
   "metadata": {},
   "source": [
    "Metadados das variáveis:"
   ]
  },
  {
   "cell_type": "code",
   "execution_count": 15,
   "metadata": {},
   "outputs": [
    {
     "data": {
      "text/html": [
       "<div>\n",
       "<style scoped>\n",
       "    .dataframe tbody tr th:only-of-type {\n",
       "        vertical-align: middle;\n",
       "    }\n",
       "\n",
       "    .dataframe tbody tr th {\n",
       "        vertical-align: top;\n",
       "    }\n",
       "\n",
       "    .dataframe thead th {\n",
       "        text-align: right;\n",
       "    }\n",
       "</style>\n",
       "<table border=\"1\" class=\"dataframe\">\n",
       "  <thead>\n",
       "    <tr style=\"text-align: right;\">\n",
       "      <th></th>\n",
       "      <th>Variável</th>\n",
       "      <th>Dtype</th>\n",
       "      <th>Qnt_valores</th>\n",
       "    </tr>\n",
       "  </thead>\n",
       "  <tbody>\n",
       "    <tr>\n",
       "      <th>0</th>\n",
       "      <td>sexo</td>\n",
       "      <td>int64</td>\n",
       "      <td>2</td>\n",
       "    </tr>\n",
       "    <tr>\n",
       "      <th>1</th>\n",
       "      <td>posse_de_veiculo</td>\n",
       "      <td>int64</td>\n",
       "      <td>2</td>\n",
       "    </tr>\n",
       "    <tr>\n",
       "      <th>2</th>\n",
       "      <td>posse_de_imovel</td>\n",
       "      <td>int64</td>\n",
       "      <td>2</td>\n",
       "    </tr>\n",
       "    <tr>\n",
       "      <th>3</th>\n",
       "      <td>qtd_filhos</td>\n",
       "      <td>int64</td>\n",
       "      <td>7</td>\n",
       "    </tr>\n",
       "    <tr>\n",
       "      <th>4</th>\n",
       "      <td>tipo_renda</td>\n",
       "      <td>object</td>\n",
       "      <td>5</td>\n",
       "    </tr>\n",
       "    <tr>\n",
       "      <th>5</th>\n",
       "      <td>educacao</td>\n",
       "      <td>object</td>\n",
       "      <td>5</td>\n",
       "    </tr>\n",
       "    <tr>\n",
       "      <th>6</th>\n",
       "      <td>estado_civil</td>\n",
       "      <td>object</td>\n",
       "      <td>5</td>\n",
       "    </tr>\n",
       "    <tr>\n",
       "      <th>7</th>\n",
       "      <td>tipo_residencia</td>\n",
       "      <td>object</td>\n",
       "      <td>6</td>\n",
       "    </tr>\n",
       "    <tr>\n",
       "      <th>8</th>\n",
       "      <td>idade</td>\n",
       "      <td>int32</td>\n",
       "      <td>47</td>\n",
       "    </tr>\n",
       "    <tr>\n",
       "      <th>9</th>\n",
       "      <td>tempo_emprego</td>\n",
       "      <td>float64</td>\n",
       "      <td>3005</td>\n",
       "    </tr>\n",
       "    <tr>\n",
       "      <th>10</th>\n",
       "      <td>possui_celular</td>\n",
       "      <td>int64</td>\n",
       "      <td>1</td>\n",
       "    </tr>\n",
       "    <tr>\n",
       "      <th>11</th>\n",
       "      <td>possui_fone_comercial</td>\n",
       "      <td>int64</td>\n",
       "      <td>2</td>\n",
       "    </tr>\n",
       "    <tr>\n",
       "      <th>12</th>\n",
       "      <td>possui_fone</td>\n",
       "      <td>int64</td>\n",
       "      <td>2</td>\n",
       "    </tr>\n",
       "    <tr>\n",
       "      <th>13</th>\n",
       "      <td>possui_email</td>\n",
       "      <td>int64</td>\n",
       "      <td>2</td>\n",
       "    </tr>\n",
       "    <tr>\n",
       "      <th>14</th>\n",
       "      <td>qt_pessoas_residencia</td>\n",
       "      <td>float64</td>\n",
       "      <td>8</td>\n",
       "    </tr>\n",
       "    <tr>\n",
       "      <th>15</th>\n",
       "      <td>mau</td>\n",
       "      <td>bool</td>\n",
       "      <td>2</td>\n",
       "    </tr>\n",
       "  </tbody>\n",
       "</table>\n",
       "</div>"
      ],
      "text/plain": [
       "                 Variável    Dtype  Qnt_valores\n",
       "0                    sexo    int64            2\n",
       "1        posse_de_veiculo    int64            2\n",
       "2         posse_de_imovel    int64            2\n",
       "3              qtd_filhos    int64            7\n",
       "4              tipo_renda   object            5\n",
       "5                educacao   object            5\n",
       "6            estado_civil   object            5\n",
       "7         tipo_residencia   object            6\n",
       "8                   idade    int32           47\n",
       "9           tempo_emprego  float64         3005\n",
       "10         possui_celular    int64            1\n",
       "11  possui_fone_comercial    int64            2\n",
       "12            possui_fone    int64            2\n",
       "13           possui_email    int64            2\n",
       "14  qt_pessoas_residencia  float64            8\n",
       "15                    mau     bool            2"
      ]
     },
     "execution_count": 15,
     "metadata": {},
     "output_type": "execute_result"
    }
   ],
   "source": [
    "# Criando uma lista com os tipos de dados de cada variável:\n",
    "\n",
    "dtype = []\n",
    "\n",
    "for i in list(data.columns):\n",
    "    dtype.append(data[i].dtype.name)\n",
    "\n",
    "# Criando uma lista da quantidade de valores únicos para cada variável:\n",
    "\n",
    "qnt = []\n",
    "\n",
    "for i in data.columns:\n",
    "    qnt.append(data[i].nunique())\n",
    "\n",
    "# Criando um dataframe e armazenando as informações:\n",
    "\n",
    "df_meta = pd.DataFrame({\n",
    "    'Variável': data.columns,\n",
    "    'Dtype': dtype,\n",
    "    'Qnt_valores': qnt\n",
    "})\n",
    "\n",
    "df_meta\n"
   ]
  },
  {
   "cell_type": "markdown",
   "metadata": {},
   "source": [
    "Algumas variáveis categóricas apresentam uma maior cardinalidade, para elas, criaremos flags usando o método get.dummies()."
   ]
  },
  {
   "cell_type": "code",
   "execution_count": 16,
   "metadata": {},
   "outputs": [],
   "source": [
    "data = pd.get_dummies(data, columns=['tipo_renda', 'educacao', 'estado_civil', 'tipo_residencia'], dtype=int)"
   ]
  },
  {
   "cell_type": "markdown",
   "metadata": {},
   "source": [
    "Finalizamos esta sessão com o seguinte dataset, ja tratado e pronto para ser utilizado no treinamento do modelo: "
   ]
  },
  {
   "cell_type": "code",
   "execution_count": 17,
   "metadata": {},
   "outputs": [
    {
     "data": {
      "text/html": [
       "<div>\n",
       "<style scoped>\n",
       "    .dataframe tbody tr th:only-of-type {\n",
       "        vertical-align: middle;\n",
       "    }\n",
       "\n",
       "    .dataframe tbody tr th {\n",
       "        vertical-align: top;\n",
       "    }\n",
       "\n",
       "    .dataframe thead th {\n",
       "        text-align: right;\n",
       "    }\n",
       "</style>\n",
       "<table border=\"1\" class=\"dataframe\">\n",
       "  <thead>\n",
       "    <tr style=\"text-align: right;\">\n",
       "      <th></th>\n",
       "      <th>sexo</th>\n",
       "      <th>posse_de_veiculo</th>\n",
       "      <th>posse_de_imovel</th>\n",
       "      <th>qtd_filhos</th>\n",
       "      <th>idade</th>\n",
       "      <th>tempo_emprego</th>\n",
       "      <th>possui_celular</th>\n",
       "      <th>possui_fone_comercial</th>\n",
       "      <th>possui_fone</th>\n",
       "      <th>possui_email</th>\n",
       "      <th>...</th>\n",
       "      <th>estado_civil_Married</th>\n",
       "      <th>estado_civil_Separated</th>\n",
       "      <th>estado_civil_Single / not married</th>\n",
       "      <th>estado_civil_Widow</th>\n",
       "      <th>tipo_residencia_Co-op apartment</th>\n",
       "      <th>tipo_residencia_House / apartment</th>\n",
       "      <th>tipo_residencia_Municipal apartment</th>\n",
       "      <th>tipo_residencia_Office apartment</th>\n",
       "      <th>tipo_residencia_Rented apartment</th>\n",
       "      <th>tipo_residencia_With parents</th>\n",
       "    </tr>\n",
       "  </thead>\n",
       "  <tbody>\n",
       "    <tr>\n",
       "      <th>0</th>\n",
       "      <td>1</td>\n",
       "      <td>1</td>\n",
       "      <td>1</td>\n",
       "      <td>0</td>\n",
       "      <td>58</td>\n",
       "      <td>3.106849</td>\n",
       "      <td>1</td>\n",
       "      <td>0</td>\n",
       "      <td>0</td>\n",
       "      <td>0</td>\n",
       "      <td>...</td>\n",
       "      <td>1</td>\n",
       "      <td>0</td>\n",
       "      <td>0</td>\n",
       "      <td>0</td>\n",
       "      <td>0</td>\n",
       "      <td>1</td>\n",
       "      <td>0</td>\n",
       "      <td>0</td>\n",
       "      <td>0</td>\n",
       "      <td>0</td>\n",
       "    </tr>\n",
       "    <tr>\n",
       "      <th>1</th>\n",
       "      <td>0</td>\n",
       "      <td>0</td>\n",
       "      <td>1</td>\n",
       "      <td>0</td>\n",
       "      <td>52</td>\n",
       "      <td>8.358904</td>\n",
       "      <td>1</td>\n",
       "      <td>0</td>\n",
       "      <td>1</td>\n",
       "      <td>1</td>\n",
       "      <td>...</td>\n",
       "      <td>0</td>\n",
       "      <td>0</td>\n",
       "      <td>1</td>\n",
       "      <td>0</td>\n",
       "      <td>0</td>\n",
       "      <td>1</td>\n",
       "      <td>0</td>\n",
       "      <td>0</td>\n",
       "      <td>0</td>\n",
       "      <td>0</td>\n",
       "    </tr>\n",
       "    <tr>\n",
       "      <th>2</th>\n",
       "      <td>0</td>\n",
       "      <td>0</td>\n",
       "      <td>1</td>\n",
       "      <td>0</td>\n",
       "      <td>52</td>\n",
       "      <td>8.358904</td>\n",
       "      <td>1</td>\n",
       "      <td>0</td>\n",
       "      <td>1</td>\n",
       "      <td>1</td>\n",
       "      <td>...</td>\n",
       "      <td>0</td>\n",
       "      <td>0</td>\n",
       "      <td>1</td>\n",
       "      <td>0</td>\n",
       "      <td>0</td>\n",
       "      <td>1</td>\n",
       "      <td>0</td>\n",
       "      <td>0</td>\n",
       "      <td>0</td>\n",
       "      <td>0</td>\n",
       "    </tr>\n",
       "    <tr>\n",
       "      <th>3</th>\n",
       "      <td>1</td>\n",
       "      <td>1</td>\n",
       "      <td>1</td>\n",
       "      <td>0</td>\n",
       "      <td>46</td>\n",
       "      <td>2.106849</td>\n",
       "      <td>1</td>\n",
       "      <td>1</td>\n",
       "      <td>1</td>\n",
       "      <td>1</td>\n",
       "      <td>...</td>\n",
       "      <td>1</td>\n",
       "      <td>0</td>\n",
       "      <td>0</td>\n",
       "      <td>0</td>\n",
       "      <td>0</td>\n",
       "      <td>1</td>\n",
       "      <td>0</td>\n",
       "      <td>0</td>\n",
       "      <td>0</td>\n",
       "      <td>0</td>\n",
       "    </tr>\n",
       "    <tr>\n",
       "      <th>4</th>\n",
       "      <td>0</td>\n",
       "      <td>1</td>\n",
       "      <td>0</td>\n",
       "      <td>0</td>\n",
       "      <td>29</td>\n",
       "      <td>3.021918</td>\n",
       "      <td>1</td>\n",
       "      <td>0</td>\n",
       "      <td>0</td>\n",
       "      <td>0</td>\n",
       "      <td>...</td>\n",
       "      <td>1</td>\n",
       "      <td>0</td>\n",
       "      <td>0</td>\n",
       "      <td>0</td>\n",
       "      <td>0</td>\n",
       "      <td>1</td>\n",
       "      <td>0</td>\n",
       "      <td>0</td>\n",
       "      <td>0</td>\n",
       "      <td>0</td>\n",
       "    </tr>\n",
       "  </tbody>\n",
       "</table>\n",
       "<p>5 rows × 33 columns</p>\n",
       "</div>"
      ],
      "text/plain": [
       "   sexo  posse_de_veiculo  posse_de_imovel  qtd_filhos  idade  tempo_emprego  \\\n",
       "0     1                 1                1           0     58       3.106849   \n",
       "1     0                 0                1           0     52       8.358904   \n",
       "2     0                 0                1           0     52       8.358904   \n",
       "3     1                 1                1           0     46       2.106849   \n",
       "4     0                 1                0           0     29       3.021918   \n",
       "\n",
       "   possui_celular  possui_fone_comercial  possui_fone  possui_email  ...  \\\n",
       "0               1                      0            0             0  ...   \n",
       "1               1                      0            1             1  ...   \n",
       "2               1                      0            1             1  ...   \n",
       "3               1                      1            1             1  ...   \n",
       "4               1                      0            0             0  ...   \n",
       "\n",
       "   estado_civil_Married  estado_civil_Separated  \\\n",
       "0                     1                       0   \n",
       "1                     0                       0   \n",
       "2                     0                       0   \n",
       "3                     1                       0   \n",
       "4                     1                       0   \n",
       "\n",
       "   estado_civil_Single / not married  estado_civil_Widow  \\\n",
       "0                                  0                   0   \n",
       "1                                  1                   0   \n",
       "2                                  1                   0   \n",
       "3                                  0                   0   \n",
       "4                                  0                   0   \n",
       "\n",
       "   tipo_residencia_Co-op apartment  tipo_residencia_House / apartment  \\\n",
       "0                                0                                  1   \n",
       "1                                0                                  1   \n",
       "2                                0                                  1   \n",
       "3                                0                                  1   \n",
       "4                                0                                  1   \n",
       "\n",
       "   tipo_residencia_Municipal apartment  tipo_residencia_Office apartment  \\\n",
       "0                                    0                                 0   \n",
       "1                                    0                                 0   \n",
       "2                                    0                                 0   \n",
       "3                                    0                                 0   \n",
       "4                                    0                                 0   \n",
       "\n",
       "   tipo_residencia_Rented apartment  tipo_residencia_With parents  \n",
       "0                                 0                             0  \n",
       "1                                 0                             0  \n",
       "2                                 0                             0  \n",
       "3                                 0                             0  \n",
       "4                                 0                             0  \n",
       "\n",
       "[5 rows x 33 columns]"
      ]
     },
     "execution_count": 17,
     "metadata": {},
     "output_type": "execute_result"
    }
   ],
   "source": [
    "data.head()"
   ]
  },
  {
   "cell_type": "markdown",
   "metadata": {},
   "source": [
    "* Separando o conjunto de dados:"
   ]
  },
  {
   "cell_type": "code",
   "execution_count": 18,
   "metadata": {},
   "outputs": [],
   "source": [
    "y = data['mau']\n",
    "X = data.drop('mau', axis=1)\n",
    "\n",
    "X_train, X_test, y_train, y_test = train_test_split(X, y, test_size=0.3, random_state=42)"
   ]
  },
  {
   "cell_type": "markdown",
   "metadata": {},
   "source": [
    "* Construção do modelo e Pruning para otimização:"
   ]
  },
  {
   "cell_type": "code",
   "execution_count": 19,
   "metadata": {},
   "outputs": [],
   "source": [
    "modelo = DecisionTreeClassifier(random_state=42)\n",
    "\n",
    "path = modelo.cost_complexity_pruning_path(X_train, y_train)\n",
    "ccp_alphas, impurities = path.ccp_alphas, path.impurities"
   ]
  },
  {
   "cell_type": "code",
   "execution_count": 20,
   "metadata": {},
   "outputs": [],
   "source": [
    "modelos = []\n",
    "\n",
    "for ccp_alpha in ccp_alphas:\n",
    "    modelo = DecisionTreeClassifier(random_state=42, ccp_alpha=ccp_alpha)\n",
    "    modelo.fit(X_train, y_train)\n",
    "    modelos.append(modelo)"
   ]
  },
  {
   "cell_type": "code",
   "execution_count": 21,
   "metadata": {},
   "outputs": [
    {
     "data": {
      "image/png": "[encoded data removed]",
      "text/plain": [
       "<Figure size 640x480 with 1 Axes>"
      ]
     },
     "metadata": {},
     "output_type": "display_data"
    }
   ],
   "source": [
    "plt.close('all')\n",
    "\n",
    "train_scores = [modelo.score(X_train, y_train) for modelo in modelos]\n",
    "test_scores = [modelo.score(X_test, y_test) for modelo in modelos]\n",
    "\n",
    "fig, ax = plt.subplots()\n",
    "\n",
    "ax.set_xlabel('alpha')\n",
    "ax.set_ylabel('Acurácia')\n",
    "ax.set_title('Acurácia X Alpha do conjunto de dados de treino e teste')\n",
    "\n",
    "ax.plot(ccp_alphas, train_scores, marker='o', label='Treino')\n",
    "ax.plot(ccp_alphas, test_scores, marker='o', label='Teste')\n",
    "\n",
    "ax.legend()\n",
    "\n",
    "plt.show()\n"
   ]
  },
  {
   "cell_type": "code",
   "execution_count": 22,
   "metadata": {},
   "outputs": [
    {
     "data": {
      "text/html": [
       "<div>\n",
       "<style scoped>\n",
       "    .dataframe tbody tr th:only-of-type {\n",
       "        vertical-align: middle;\n",
       "    }\n",
       "\n",
       "    .dataframe tbody tr th {\n",
       "        vertical-align: top;\n",
       "    }\n",
       "\n",
       "    .dataframe thead th {\n",
       "        text-align: right;\n",
       "    }\n",
       "</style>\n",
       "<table border=\"1\" class=\"dataframe\">\n",
       "  <thead>\n",
       "    <tr style=\"text-align: right;\">\n",
       "      <th></th>\n",
       "      <th>alpha</th>\n",
       "      <th>score</th>\n",
       "    </tr>\n",
       "  </thead>\n",
       "  <tbody>\n",
       "    <tr>\n",
       "      <th>0</th>\n",
       "      <td>0.000000</td>\n",
       "      <td>0.969970</td>\n",
       "    </tr>\n",
       "    <tr>\n",
       "      <th>1</th>\n",
       "      <td>0.000000</td>\n",
       "      <td>0.969970</td>\n",
       "    </tr>\n",
       "    <tr>\n",
       "      <th>2</th>\n",
       "      <td>0.000000</td>\n",
       "      <td>0.969970</td>\n",
       "    </tr>\n",
       "    <tr>\n",
       "      <th>3</th>\n",
       "      <td>0.000000</td>\n",
       "      <td>0.969970</td>\n",
       "    </tr>\n",
       "    <tr>\n",
       "      <th>4</th>\n",
       "      <td>0.000000</td>\n",
       "      <td>0.969970</td>\n",
       "    </tr>\n",
       "    <tr>\n",
       "      <th>...</th>\n",
       "      <td>...</td>\n",
       "      <td>...</td>\n",
       "    </tr>\n",
       "    <tr>\n",
       "      <th>172</th>\n",
       "      <td>0.000139</td>\n",
       "      <td>0.975175</td>\n",
       "    </tr>\n",
       "    <tr>\n",
       "      <th>173</th>\n",
       "      <td>0.000141</td>\n",
       "      <td>0.975776</td>\n",
       "    </tr>\n",
       "    <tr>\n",
       "      <th>174</th>\n",
       "      <td>0.000150</td>\n",
       "      <td>0.975776</td>\n",
       "    </tr>\n",
       "    <tr>\n",
       "      <th>175</th>\n",
       "      <td>0.000206</td>\n",
       "      <td>0.975576</td>\n",
       "    </tr>\n",
       "    <tr>\n",
       "      <th>176</th>\n",
       "      <td>0.000265</td>\n",
       "      <td>0.974975</td>\n",
       "    </tr>\n",
       "  </tbody>\n",
       "</table>\n",
       "<p>177 rows × 2 columns</p>\n",
       "</div>"
      ],
      "text/plain": [
       "        alpha     score\n",
       "0    0.000000  0.969970\n",
       "1    0.000000  0.969970\n",
       "2    0.000000  0.969970\n",
       "3    0.000000  0.969970\n",
       "4    0.000000  0.969970\n",
       "..        ...       ...\n",
       "172  0.000139  0.975175\n",
       "173  0.000141  0.975776\n",
       "174  0.000150  0.975776\n",
       "175  0.000206  0.975576\n",
       "176  0.000265  0.974975\n",
       "\n",
       "[177 rows x 2 columns]"
      ]
     },
     "execution_count": 22,
     "metadata": {},
     "output_type": "execute_result"
    }
   ],
   "source": [
    "pd.DataFrame({'alpha': ccp_alphas.tolist(), 'score': test_scores})"
   ]
  },
  {
   "cell_type": "markdown",
   "metadata": {},
   "source": [
    "* Validação do modelo:"
   ]
  },
  {
   "cell_type": "code",
   "execution_count": 24,
   "metadata": {},
   "outputs": [
    {
     "name": "stdout",
     "output_type": "stream",
     "text": [
      "Acurácia: 0.9755755755755756\n"
     ]
    },
    {
     "data": {
      "image/png": "[encoded data removed]",
      "text/plain": [
       "<Figure size 640x480 with 2 Axes>"
      ]
     },
     "metadata": {},
     "output_type": "display_data"
    }
   ],
   "source": [
    "modelo_podado = DecisionTreeClassifier(random_state=0, ccp_alpha=0.000206)\n",
    "\n",
    "modelo_podado.fit(X_train, y_train)\n",
    "prev = modelo_podado.predict(X_test)\n",
    "\n",
    "cm = confusion_matrix(y_test, prev, labels=modelo_podado.classes_)\n",
    "disp = ConfusionMatrixDisplay(confusion_matrix=cm, display_labels=['Cliente aprovado', 'Cliente reprovado'])\n",
    "disp.plot()\n",
    "\n",
    "print(f'Acurácia: {accuracy_score(y_test, prev)}')"
   ]
  },
  {
   "cell_type": "markdown",
   "metadata": {},
   "source": [
    "Por fim, concluímos o projeto apresentando uma acurácia elevada para os dados de teste, concluindo a validação do modelo."
   ]
  }
 ],
 "metadata": {
  "kernelspec": {
   "display_name": "Python 3",
   "language": "python",
   "name": "python3"
  },
  "language_info": {
   "codemirror_mode": {
    "name": "ipython",
    "version": 3
   },
   "file_extension": ".py",
   "mimetype": "text/x-python",
   "name": "python",
   "nbconvert_exporter": "python",
   "pygments_lexer": "ipython3",
   "version": "3.12.1"
  }
 },
 "nbformat": 4,
 "nbformat_minor": 2
}
