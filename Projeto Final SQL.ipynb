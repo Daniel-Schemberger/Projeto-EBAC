{
 "cells": [
  {
   "cell_type": "markdown",
   "metadata": {},
   "source": [
    "# Projeto Final - SQL para Análise de Dados\n",
    "\n",
    "* O  seguinte notebook faz parte do curso SQL para Análise de Dados, como parte do curso de Cientista de Dados da EBAC.\n",
    "\n",
    "* Temos como objetivo analisar uma base de dados, armazenado no AWS S3, com informações bancárias, visando gerar insights gerais utilizando queries SQL com Amazon Athena.\n",
    "\n",
    "* Para fazer o carregamento dos dados a partir das queries e criar as visualiações, utilizamos as seguintes bibliotecas:"
   ]
  },
  {
   "cell_type": "code",
   "execution_count": null,
   "metadata": {},
   "outputs": [],
   "source": [
    "import pandas as pd\n",
    "import matplotlib.pyplot as plt\n",
    "import seaborn as sns"
   ]
  },
  {
   "cell_type": "markdown",
   "metadata": {},
   "source": [
    "1 ) Carregamento dos dados:"
   ]
  },
  {
   "cell_type": "markdown",
   "metadata": {},
   "source": [
    "Inicialmente foi criado um bucket 'ebacprojfinal' utilizando o sistema de armazenamento S3, no qual os dados foram armazenados. Em seguida, criamos uma tabela contendo os dados utilizando o Amazon Athena:"
   ]
  },
  {
   "cell_type": "markdown",
   "metadata": {},
   "source": [
    "* Código para criação da tabela:\n",
    "\n",
    "```sql\n",
    "CREATE EXTERNAL TABLE IF NOT EXISTS default.credito ( \n",
    "  `idade` int,\n",
    "  `sexo` string,\n",
    "  `dependentes` int,\n",
    "  `escolaridade` string,\n",
    "  `estado_civil` string,\n",
    "  `salario_anual` string,\n",
    "  `tipo_cartao` string, \n",
    "  `qtd_produtos` bigint,\n",
    "  `iteracoes_12m` int,\n",
    "  `meses_inativo_12m` int,\n",
    "  `limite_credito` float,\n",
    "  `valor_transacoes_12m` float,\n",
    "  `qtd_transacoes_12m` int \n",
    ")\n",
    "ROW FORMAT SERDE 'org.apache.hadoop.hive.serde2.lazy.LazySimpleSerDe'\n",
    "WITH SERDEPROPERTIES (\n",
    "  'serialization.format' = ',',\n",
    "  'field.delim' = ','\n",
    ") LOCATION <sua-localizacao>\n",
    "TBLPROPERTIES ('has_encrypted_data'='false');\n",
    "```"
   ]
  },
  {
   "cell_type": "markdown",
   "metadata": {},
   "source": []
  }
 ],
 "metadata": {
  "language_info": {
   "name": "python"
  }
 },
 "nbformat": 4,
 "nbformat_minor": 2
}
